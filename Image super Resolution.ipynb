{
 "cells": [
  {
   "cell_type": "markdown",
   "metadata": {},
   "source": [
    "# Importing Libraries"
   ]
  },
  {
   "cell_type": "code",
   "execution_count": 4,
   "metadata": {},
   "outputs": [],
   "source": [
    "import os\n",
    "import re\n",
    "from scipy import ndimage, misc\n",
    "from skimage.transform import resize, rescale\n",
    "import matplotlib.pyplot as plt\n",
    "import numpy as np\n",
    "\n",
    "%matplotlib inline\n",
    "\n",
    "np.random.seed(0)\n",
    "\n",
    "from tensorflow.keras.layers import Input, Dense, Conv2D, MaxPooling2D, Dropout\n",
    "from tensorflow.keras.layers import Conv2DTranspose, UpSampling2D, add\n",
    "from tensorflow.keras.models import Model\n",
    "from tensorflow.keras import regularizers\n",
    "import tensorflow as tf"
   ]
  },
  {
   "cell_type": "markdown",
   "metadata": {},
   "source": [
    "# Encoder Model"
   ]
  },
  {
   "cell_type": "code",
   "execution_count": 5,
   "metadata": {},
   "outputs": [],
   "source": [
    "input_img = Input(shape=(256,256,3))\n",
    "layer1 = Conv2D(64, (3,3), padding ='same', activation='relu',\n",
    "                activity_regularizer = regularizers.l1(10e-10))(input_img)\n",
    "layer2 = Conv2D(64, (3,3), padding ='same', activation='relu',\n",
    "                activity_regularizer = regularizers.l1(10e-10))(layer1)\n",
    "layer3 = MaxPooling2D(padding='same')(layer2)\n",
    "layer4 = Conv2D(128, (3,3), padding ='same', activation='relu',\n",
    "                activity_regularizer = regularizers.l1(10e-10))(layer3)\n",
    "layer5 = Conv2D(128, (3,3), padding ='same', activation='relu',\n",
    "                activity_regularizer = regularizers.l1(10e-10))(layer4)\n",
    "layer6 = MaxPooling2D(padding='same')(layer5)\n",
    "layer7 = Conv2D(256, (3,3), padding ='same', activation='relu',\n",
    "                activity_regularizer = regularizers.l1(10e-10))(layer6)\n",
    "encoder = Model(input_img, layer7)"
   ]
  },
  {
   "cell_type": "code",
   "execution_count": 8,
   "metadata": {},
   "outputs": [
    {
     "name": "stdout",
     "output_type": "stream",
     "text": [
      "Model: \"model\"\n",
      "_________________________________________________________________\n",
      "Layer (type)                 Output Shape              Param #   \n",
      "=================================================================\n",
      "input_3 (InputLayer)         [(None, 256, 256, 3)]     0         \n",
      "_________________________________________________________________\n",
      "conv2d_10 (Conv2D)           (None, 256, 256, 64)      1792      \n",
      "_________________________________________________________________\n",
      "conv2d_11 (Conv2D)           (None, 256, 256, 64)      36928     \n",
      "_________________________________________________________________\n",
      "max_pooling2d_4 (MaxPooling2 (None, 128, 128, 64)      0         \n",
      "_________________________________________________________________\n",
      "conv2d_12 (Conv2D)           (None, 128, 128, 128)     73856     \n",
      "_________________________________________________________________\n",
      "conv2d_13 (Conv2D)           (None, 128, 128, 128)     147584    \n",
      "_________________________________________________________________\n",
      "max_pooling2d_5 (MaxPooling2 (None, 64, 64, 128)       0         \n",
      "_________________________________________________________________\n",
      "conv2d_14 (Conv2D)           (None, 64, 64, 256)       295168    \n",
      "=================================================================\n",
      "Total params: 555,328\n",
      "Trainable params: 555,328\n",
      "Non-trainable params: 0\n",
      "_________________________________________________________________\n"
     ]
    }
   ],
   "source": [
    "encoder.summary()"
   ]
  },
  {
   "cell_type": "markdown",
   "metadata": {},
   "source": [
    "# Decoder Model"
   ]
  },
  {
   "cell_type": "code",
   "execution_count": 22,
   "metadata": {},
   "outputs": [],
   "source": [
    "# Encoder Layers\n",
    "input_img = Input(shape=(256,256,3))\n",
    "layer1 = Conv2D(64, (3,3), padding ='same', activation='relu',\n",
    "                activity_regularizer = regularizers.l1(10e-10))(input_img)\n",
    "layer2 = Conv2D(64, (3,3), padding ='same', activation='relu',\n",
    "                activity_regularizer = regularizers.l1(10e-10))(layer1)\n",
    "layer3 = MaxPooling2D(padding='same')(layer2)\n",
    "layer4 = Conv2D(128, (3,3), padding ='same', activation='relu',\n",
    "                activity_regularizer = regularizers.l1(10e-10))(layer3)\n",
    "layer5 = Conv2D(128, (3,3), padding ='same', activation='relu',\n",
    "                activity_regularizer = regularizers.l1(10e-10))(layer4)\n",
    "layer6 = MaxPooling2D(padding='same')(layer5)\n",
    "layer7 = Conv2D(256, (3,3), padding ='same', activation='relu',\n",
    "                activity_regularizer = regularizers.l1(10e-10))(layer6)"
   ]
  },
  {
   "cell_type": "code",
   "execution_count": 23,
   "metadata": {},
   "outputs": [
    {
     "name": "stdout",
     "output_type": "stream",
     "text": [
      "Model: \"model_3\"\n",
      "__________________________________________________________________________________________________\n",
      "Layer (type)                    Output Shape         Param #     Connected to                     \n",
      "==================================================================================================\n",
      "input_6 (InputLayer)            [(None, 256, 256, 3) 0                                            \n",
      "__________________________________________________________________________________________________\n",
      "conv2d_35 (Conv2D)              (None, 256, 256, 64) 1792        input_6[0][0]                    \n",
      "__________________________________________________________________________________________________\n",
      "conv2d_36 (Conv2D)              (None, 256, 256, 64) 36928       conv2d_35[0][0]                  \n",
      "__________________________________________________________________________________________________\n",
      "max_pooling2d_10 (MaxPooling2D) (None, 128, 128, 64) 0           conv2d_36[0][0]                  \n",
      "__________________________________________________________________________________________________\n",
      "conv2d_37 (Conv2D)              (None, 128, 128, 128 73856       max_pooling2d_10[0][0]           \n",
      "__________________________________________________________________________________________________\n",
      "conv2d_38 (Conv2D)              (None, 128, 128, 128 147584      conv2d_37[0][0]                  \n",
      "__________________________________________________________________________________________________\n",
      "max_pooling2d_11 (MaxPooling2D) (None, 64, 64, 128)  0           conv2d_38[0][0]                  \n",
      "__________________________________________________________________________________________________\n",
      "conv2d_39 (Conv2D)              (None, 64, 64, 256)  295168      max_pooling2d_11[0][0]           \n",
      "__________________________________________________________________________________________________\n",
      "up_sampling2d_4 (UpSampling2D)  (None, 128, 128, 256 0           conv2d_39[0][0]                  \n",
      "__________________________________________________________________________________________________\n",
      "conv2d_40 (Conv2D)              (None, 128, 128, 128 295040      up_sampling2d_4[0][0]            \n",
      "__________________________________________________________________________________________________\n",
      "conv2d_41 (Conv2D)              (None, 128, 128, 128 147584      conv2d_40[0][0]                  \n",
      "__________________________________________________________________________________________________\n",
      "add_4 (Add)                     (None, 128, 128, 128 0           conv2d_38[0][0]                  \n",
      "                                                                 conv2d_41[0][0]                  \n",
      "__________________________________________________________________________________________________\n",
      "up_sampling2d_5 (UpSampling2D)  (None, 256, 256, 128 0           add_4[0][0]                      \n",
      "__________________________________________________________________________________________________\n",
      "conv2d_42 (Conv2D)              (None, 256, 256, 64) 73792       up_sampling2d_5[0][0]            \n",
      "__________________________________________________________________________________________________\n",
      "conv2d_43 (Conv2D)              (None, 256, 256, 64) 36928       conv2d_42[0][0]                  \n",
      "__________________________________________________________________________________________________\n",
      "add_5 (Add)                     (None, 256, 256, 64) 0           conv2d_43[0][0]                  \n",
      "                                                                 conv2d_36[0][0]                  \n",
      "__________________________________________________________________________________________________\n",
      "conv2d_44 (Conv2D)              (None, 256, 256, 3)  1731        add_5[0][0]                      \n",
      "==================================================================================================\n",
      "Total params: 1,110,403\n",
      "Trainable params: 1,110,403\n",
      "Non-trainable params: 0\n",
      "__________________________________________________________________________________________________\n"
     ]
    }
   ],
   "source": [
    "# Decoder Layers\n",
    "layer8 = UpSampling2D()(layer7)\n",
    "layer9 = Conv2D(128, (3,3), padding ='same', activation = 'relu',\n",
    "               activity_regularizer=regularizers.l1(10e-10))(layer8)\n",
    "layer10 = Conv2D(128, (3,3), padding ='same', activation = 'relu',\n",
    "               activity_regularizer=regularizers.l1(10e-10))(layer9)\n",
    "        # merge Layer\n",
    "layer11 = add([layer5, layer10])\n",
    "layer12 = UpSampling2D()(layer11)\n",
    "layer13 = Conv2D(64, (3,3), padding ='same', activation = 'relu',\n",
    "               activity_regularizer=regularizers.l1(10e-10))(layer12)\n",
    "layer14 = Conv2D(64, (3,3), padding ='same', activation = 'relu',\n",
    "               activity_regularizer=regularizers.l1(10e-10))(layer13)\n",
    "layer15 = add([layer14, layer2])\n",
    "decoder = Conv2D(3, (3,3), padding ='same', activation = 'relu',\n",
    "               activity_regularizer=regularizers.l1(10e-10))(layer15)\n",
    "autoencoder = Model(input_img, decoder)\n",
    "autoencoder.summary()"
   ]
  },
  {
   "cell_type": "code",
   "execution_count": 20,
   "metadata": {},
   "outputs": [],
   "source": [
    "autoencoder.compile(optimizer='adadelta', loss='mean_squared_error')"
   ]
  },
  {
   "cell_type": "markdown",
   "metadata": {},
   "source": [
    "# Note:"
   ]
  },
  {
   "cell_type": "markdown",
   "metadata": {},
   "source": [
    "#### Model is not trained due to computational limitations\n",
    "\n",
    "Go to <a href=\"https://towardsdatascience.com/image-super-resolution-using-convolution-neural-networks-and-auto-encoders-28c9eceadf90\">Link</a> to download the dataset and code for training the model."
   ]
  }
 ],
 "metadata": {
  "kernelspec": {
   "display_name": "Python 3",
   "language": "python",
   "name": "python3"
  },
  "language_info": {
   "codemirror_mode": {
    "name": "ipython",
    "version": 3
   },
   "file_extension": ".py",
   "mimetype": "text/x-python",
   "name": "python",
   "nbconvert_exporter": "python",
   "pygments_lexer": "ipython3",
   "version": "3.7.6"
  }
 },
 "nbformat": 4,
 "nbformat_minor": 4
}
